{
 "cells": [
  {
   "cell_type": "markdown",
   "metadata": {},
   "source": [
    "# Dipping your toe in the ocean of Computer Vision\n",
    "### Using Keras and OpenCV"
   ]
  },
  {
   "cell_type": "code",
   "execution_count": 60,
   "metadata": {},
   "outputs": [],
   "source": [
    "# NumPy - math library for handling matrices and arrays\n",
    "import numpy as np\n",
    "\n",
    "# MNIST dataset containing over 60 000 training and 10 000 test examples\n",
    "from keras.datasets import mnist \n",
    "\n",
    "# Keras is Tensorflow's high level API for Deep Learning\n",
    "from keras.utils import to_categorical\n",
    "from keras.models import Sequential\n",
    "from keras.layers import Conv2D\n",
    "from keras.layers import MaxPool2D\n",
    "from keras.layers import Dense\n",
    "from keras.layers import Activation\n",
    "from keras.layers import Flatten\n",
    "\n",
    "# Matplotlib's PyPlot - visualization library\n",
    "import matplotlib.pyplot as plt\n",
    "\n",
    "# OpenCV - Opensource Computer Vision library\n",
    "import cv2 as cv"
   ]
  },
  {
   "cell_type": "code",
   "execution_count": 61,
   "metadata": {
    "tags": []
   },
   "outputs": [],
   "source": [
    "(x_train, y_train), (x_test, y_test) = mnist.load_data()"
   ]
  },
  {
   "cell_type": "code",
   "execution_count": 62,
   "metadata": {},
   "outputs": [
    {
     "data": {
      "image/png": "[encoded data removed]",
      "text/plain": [
       "<Figure size 432x288 with 9 Axes>"
      ]
     },
     "metadata": {
      "needs_background": "light"
     },
     "output_type": "display_data"
    }
   ],
   "source": [
    "from random import choice\n",
    "\n",
    "for i in range(9):\n",
    "    plt.subplot(330 + 1 + i)\n",
    "    plt.axis('off')\n",
    "    plt.imshow(x_train[choice(range(len(x_train)))], cmap='gray')\n",
    "\n",
    "plt.show()"
   ]
  },
  {
   "cell_type": "code",
   "execution_count": 63,
   "metadata": {},
   "outputs": [
    {
     "data": {
      "text/plain": [
       "(28, 28)"
      ]
     },
     "execution_count": 63,
     "metadata": {},
     "output_type": "execute_result"
    }
   ],
   "source": [
    "x_train[0].shape"
   ]
  },
  {
   "cell_type": "code",
   "execution_count": 64,
   "metadata": {},
   "outputs": [],
   "source": [
    "x_train = x_train.reshape(x_train.shape[0], 28, 28, 1)\n",
    "x_test = x_test.reshape(x_test.shape[0], 28, 28, 1)"
   ]
  },
  {
   "cell_type": "code",
   "execution_count": 65,
   "metadata": {},
   "outputs": [
    {
     "data": {
      "text/plain": [
       "(28, 28, 1)"
      ]
     },
     "execution_count": 65,
     "metadata": {},
     "output_type": "execute_result"
    }
   ],
   "source": [
    "x_train[0].shape"
   ]
  },
  {
   "cell_type": "code",
   "execution_count": 66,
   "metadata": {},
   "outputs": [],
   "source": [
    "def normalize(data): \n",
    "    # Normalize data from the range of (0 --> 255) to (0.0 --> 1.0) which accelrates training\n",
    "    data = data.astype('float32')\n",
    "    data /= 255\n",
    "    return data"
   ]
  },
  {
   "cell_type": "code",
   "execution_count": 67,
   "metadata": {},
   "outputs": [],
   "source": [
    "x_train = normalize(x_train)\n",
    "x_test = normalize(x_test)"
   ]
  },
  {
   "cell_type": "code",
   "execution_count": 68,
   "metadata": {},
   "outputs": [
    {
     "data": {
      "text/plain": [
       "(60000,)"
      ]
     },
     "execution_count": 68,
     "metadata": {},
     "output_type": "execute_result"
    }
   ],
   "source": [
    "y_train.shape"
   ]
  },
  {
   "cell_type": "code",
   "execution_count": 69,
   "metadata": {},
   "outputs": [],
   "source": [
    "y_train = to_categorical(y_train, num_classes=10)\n",
    "y_test = to_categorical(y_test, num_classes=10)"
   ]
  },
  {
   "cell_type": "code",
   "execution_count": 70,
   "metadata": {},
   "outputs": [
    {
     "data": {
      "text/plain": [
       "(60000, 10)"
      ]
     },
     "execution_count": 70,
     "metadata": {},
     "output_type": "execute_result"
    }
   ],
   "source": [
    "y_train.shape"
   ]
  },
  {
   "cell_type": "code",
   "execution_count": 71,
   "metadata": {},
   "outputs": [
    {
     "data": {
      "text/plain": [
       "array([0., 0., 0., 0., 0., 1., 0., 0., 0., 0.], dtype=float32)"
      ]
     },
     "execution_count": 71,
     "metadata": {},
     "output_type": "execute_result"
    }
   ],
   "source": [
    "y_train[0]"
   ]
  },
  {
   "cell_type": "code",
   "execution_count": 72,
   "metadata": {
    "tags": []
   },
   "outputs": [
    {
     "data": {
      "text/plain": [
       "5"
      ]
     },
     "execution_count": 72,
     "metadata": {},
     "output_type": "execute_result"
    }
   ],
   "source": [
    "number = np.where(y_train[0] == 1)\n",
    "# returns a tuple of arrays, needs to enter tuple, and extract the 0'the index  \n",
    "number[0][0] "
   ]
  },
  {
   "cell_type": "code",
   "execution_count": 73,
   "metadata": {},
   "outputs": [
    {
     "data": {
      "image/png": "[encoded data removed]",
      "text/plain": [
       "<Figure size 432x288 with 1 Axes>"
      ]
     },
     "metadata": {
      "needs_background": "light"
     },
     "output_type": "display_data"
    }
   ],
   "source": [
    "plt.axis('off')\n",
    "plt.imshow(x_train[0], cmap='gray')\n",
    "plt.show()"
   ]
  },
  {
   "cell_type": "markdown",
   "metadata": {},
   "source": [
    "## Let's define a model"
   ]
  },
  {
   "cell_type": "code",
   "execution_count": 74,
   "metadata": {},
   "outputs": [],
   "source": [
    "model = Sequential() \n",
    "\n",
    "model.add(Flatten(input_shape=(28, 28, 1)))\n",
    "model.add(Dense(128, activation='relu'))\n",
    "model.add(Dense(10, activation='softmax'))"
   ]
  },
  {
   "cell_type": "markdown",
   "metadata": {},
   "source": [
    "<h3>\n",
    "    Architecture Visualized\n",
    "</h3>\n",
    "<img src=\"fcnn.png\" width=\"500\"/>"
   ]
  },
  {
   "cell_type": "markdown",
   "metadata": {},
   "source": [
    "## Interactive Node-Link Visualization of:\n",
    "### [Fully Connected Neural Networks](https://www.cs.ryerson.ca/~aharley/vis/fc/)\n",
    "\n",
    "### [Convolutional Neural Networks](https://www.cs.ryerson.ca/~aharley/vis/conv/)"
   ]
  },
  {
   "cell_type": "code",
   "execution_count": 75,
   "metadata": {},
   "outputs": [],
   "source": [
    "model.compile(\n",
    "    optimizer='adam',\n",
    "    loss='categorical_crossentropy',\n",
    "    metrics=['accuracy']\n",
    ")"
   ]
  },
  {
   "cell_type": "code",
   "execution_count": null,
   "metadata": {
    "tags": []
   },
   "outputs": [],
   "source": [
    "history = model.fit(\n",
    "    x_train,\n",
    "    y_train,\n",
    "    epochs=30,\n",
    "    batch_size=32,\n",
    "    verbose=1\n",
    ")\n",
    "\n",
    "plt.plot(history.history['accuracy'])\n",
    "plt.plot(history.history['loss'])\n",
    "plt.title('model accuracy')\n",
    "plt.ylabel('accuracy')\n",
    "plt.xlabel('epoch')\n",
    "plt.legend(['training', 'loss'], loc='best')\n",
    "plt.show()"
   ]
  },
  {
   "cell_type": "code",
   "execution_count": 20,
   "metadata": {},
   "outputs": [],
   "source": [
    "model.save_weights('models/my_first_model.h5')"
   ]
  },
  {
   "cell_type": "code",
   "execution_count": 76,
   "metadata": {},
   "outputs": [],
   "source": [
    "model.load_weights('models/simple_fnn_30_epochs.h5')"
   ]
  },
  {
   "cell_type": "code",
   "execution_count": 77,
   "metadata": {},
   "outputs": [
    {
     "name": "stdout",
     "output_type": "stream",
     "text": [
      "313/313 [==============================] - 0s 615us/step - loss: 0.1201 - accuracy: 0.9806\n",
      "Test loss: 0.12\n",
      "Test accuracy: 0.981\n"
     ]
    }
   ],
   "source": [
    "loss, accuracy  = model.evaluate(x_test, y_test, verbose=True)\n",
    "\n",
    "print(f'Test loss: {loss:.3}')\n",
    "print(f'Test accuracy: {accuracy:.3}')"
   ]
  },
  {
   "cell_type": "code",
   "execution_count": 23,
   "metadata": {},
   "outputs": [
    {
     "name": "stdout",
     "output_type": "stream",
     "text": [
      "313/313 [==============================] - 0s 511us/step - loss: 0.1201 - accuracy: 0.9806\n"
     ]
    }
   ],
   "source": [
    "score = model.evaluate(x_test, y_test)"
   ]
  },
  {
   "cell_type": "markdown",
   "metadata": {},
   "source": [
    "## Let's have some fun"
   ]
  },
  {
   "cell_type": "code",
   "execution_count": null,
   "metadata": {
    "scrolled": true,
    "slideshow": {
     "slide_type": "-"
    },
    "tags": [
     "hide-input"
    ]
   },
   "outputs": [],
   "source": [
    "# Inspired by Ole Kröger (https://bit.ly/3jPiBMY)\n",
    "\n",
    "import math\n",
    "from scipy import ndimage\n",
    "\n",
    "\n",
    "def get_best_shift(img):\n",
    "    center_y , center_x = ndimage.measurements.center_of_mass(img)\n",
    "\n",
    "    rows, cols = img.shape\n",
    "    shift_y = np.round(rows//2 - center_y)\n",
    "    shift_x = np.round(cols//2 - center_x)\n",
    "\n",
    "    return shift_x, shift_y\n",
    "\n",
    "\n",
    "def shift(img, sx, sy):\n",
    "    rows,cols = img.shape\n",
    "    M = np.float32([[1,0,sx],[0,1,sy]])\n",
    "    shifted = cv.warpAffine(img,M,(cols,rows))\n",
    "    return shifted\n",
    "\n",
    "\n",
    "def mnist_preprocessing(image, dim=28, box=20):\n",
    "    resized_image = cv.resize(image, dsize=(dim, dim), interpolation=cv.INTER_LINEAR)\n",
    "    gray = np.asarray(cv.cvtColor(resized_image, cv.COLOR_BGR2GRAY))\n",
    "    gray = 255 - gray\n",
    "    gray = cv.resize(gray, (dim, dim))\n",
    "    _, thresh = cv.threshold(gray, 128, 255, cv.THRESH_BINARY + cv.THRESH_OTSU)\n",
    "    \n",
    "    \n",
    "    while np.sum(gray[0]) == 0:\n",
    "        gray = gray[1:]\n",
    "\n",
    "    while np.sum(gray[:,0]) == 0:\n",
    "        gray = np.delete(gray, 0, 1)\n",
    "\n",
    "    while np.sum(gray[-1]) == 0:\n",
    "        gray = gray[:-1]\n",
    "\n",
    "    while np.sum(gray[:,-1]) == 0:\n",
    "        gray = np.delete(gray, -1, 1)\n",
    "\n",
    "    rows,cols = gray.shape\n",
    "\n",
    "    if rows > cols:\n",
    "        factor = box/rows\n",
    "        rows = box\n",
    "        cols = int(round(cols*factor))\n",
    "        gray = cv.resize(gray, (cols,rows))\n",
    "    else:\n",
    "        factor = box/cols\n",
    "        cols = box\n",
    "        rows = int(round(rows*factor))\n",
    "        gray = cv.resize(gray, (cols, rows))\n",
    "\n",
    "    colsPadding = (int(math.ceil((dim - cols)/2.0)),int(math.floor((dim - cols)/2.0)))\n",
    "    rowsPadding = (int(math.ceil((dim - rows)/2.0)),int(math.floor((dim - rows)/2.0)))\n",
    "    gray = np.pad(gray, (rowsPadding, colsPadding), 'constant')\n",
    "\n",
    "    shiftx,shifty = get_best_shift(gray)\n",
    "    shifted = shift(gray,shiftx,shifty)\n",
    "    \n",
    "    normalized_img = normalize(shifted)\n",
    "    \n",
    "    return shifted"
   ]
  },
  {
   "cell_type": "code",
   "execution_count": 34,
   "metadata": {},
   "outputs": [],
   "source": [
    "def predict_single_image(model, img):\n",
    "    img = np.expand_dims(img, axis=0)     # --> (1, 28, 28)\n",
    "    img = np.reshape(img, [1, 28, 28, 1]) # --> (1, 28, 28, 1)\n",
    "    pred = model.predict(img)\n",
    "    label = np.argmax(pred[:1])\n",
    "    confidence = (pred[0][label])[0]*100\n",
    "    \n",
    "    return label, confidence"
   ]
  },
  {
   "cell_type": "code",
   "execution_count": null,
   "metadata": {},
   "outputs": [],
   "source": [
    "# OpenCV - Opensource Computer Vision library\n",
    "import cv2 as cv\n",
    "import numpy as np\n",
    "cap = cv.VideoCapture(0) \n",
    "\n",
    "init_frame_read_correctly, init_frame = cap.read()\n",
    "if not init_frame_read_correctly:\n",
    "        print(\"No frames to read...\")\n",
    "        \n",
    "\n",
    "bounding_box = (init_frame.shape[1]//4, init_frame.shape[0]//4,\n",
    "                init_frame.shape[1]//2, init_frame.shape[0]//2)    \n",
    "\n",
    "while(cap.isOpened()):\n",
    "    # Capture frame-by-frame\n",
    "    frame_read_correctly, frame = cap.read()\n",
    "    if not frame_read_correctly:\n",
    "        print(\"No frames to read...\")\n",
    "        break\n",
    "    \n",
    "    \n",
    "    # new_bounding_box = bounding_box\n",
    "    wh = (frame.shape[1]//frame.shape[0])*200\n",
    "    if frame_read_correctly:\n",
    "        point1 = (frame.shape[1]//2 - wh, frame.shape[0]//2 - wh)\n",
    "        point2 = (frame.shape[1]//2 + wh, frame.shape[0]//2 + wh)\n",
    "        cv.rectangle(frame, point1, point2, (255, 255, 0), 2)\n",
    "        \n",
    "\n",
    "    try:\n",
    "        # Crop out new ROI and process it\n",
    "        new_ROI = frame[frame.shape[0]//2 - wh :frame.shape[0]//2 + wh, frame.shape[1]//2 - wh:frame.shape[1]//2 + wh]\n",
    "        img = mnist_preprocessing(new_ROI)\n",
    "        label, conf = predict_single_image(model, img)\n",
    "\n",
    "        cv.namedWindow('processed', 0)\n",
    "        cv.imshow('processed', img)\n",
    "        \n",
    "    except Exception as e:\n",
    "        print(f\"Exception occured:\\n{e}\")\n",
    "        pass\n",
    "\n",
    "    \n",
    "    # Display the resulting pred\n",
    "    cv.putText(frame,\n",
    "               f\"{label[0]}\",\n",
    "               org=(point2[0] - 75, point2[1] + 75),\n",
    "               fontFace=cv.FONT_HERSHEY_PLAIN,\n",
    "               fontScale=5,\n",
    "               color=(255, 255, 0),\n",
    "               thickness=2,\n",
    "               lineType=cv.LINE_AA\n",
    "              )\n",
    "    \n",
    "    cv.flip(frame, 1)\n",
    "    cv.namedWindow('frame', 0)\n",
    "    cv.resizeWindow('frame', 640, 480)\n",
    "    cv.imshow('frame', frame)\n",
    "    #cv.imshow('box', new_ROI)\n",
    "    \n",
    "    # Listen for keypress\n",
    "    k = cv.waitKey(1)\n",
    "    if (k & 0xFF == ord('q')) or (k % 256 == 27):\n",
    "        break\n",
    "    \n",
    "\n",
    "# Release the capture afterward\n",
    "cap.release()\n",
    "cv.destroyAllWindows()"
   ]
  }
 ],
 "metadata": {
  "celltoolbar": "Edit Metadata",
  "kernelspec": {
   "display_name": "Python 3.8.1 64-bit ('venv')",
   "language": "python",
   "name": "python38164bitvenv355e9b74feae425dba00ca460173104b"
  },
  "language_info": {
   "codemirror_mode": {
    "name": "ipython",
    "version": 3
   },
   "file_extension": ".py",
   "mimetype": "text/x-python",
   "name": "python",
   "nbconvert_exporter": "python",
   "pygments_lexer": "ipython3",
   "version": "3.8.1"
  }
 },
 "nbformat": 4,
 "nbformat_minor": 4
}
